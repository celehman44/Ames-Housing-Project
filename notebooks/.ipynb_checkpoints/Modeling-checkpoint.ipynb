{
 "cells": [
  {
   "cell_type": "code",
   "execution_count": 1,
   "metadata": {},
   "outputs": [],
   "source": [
    "import pandas as pd\n",
    "import numpy as np\n",
    "import matplotlib.pyplot as plt\n",
    "import seaborn as sns\n",
    "from sklearn.model_selection import cross_val_score, KFold, train_test_split\n",
    "from sklearn.preprocessing import StandardScaler\n",
    "from sklearn.linear_model import Ridge, Lasso, ElasticNet, LinearRegression, RidgeCV, LassoCV, ElasticNetCV\n",
    "from sklearn.metrics import mean_squared_error\n",
    "import pickle\n",
    "import csv\n",
    "np.random.seed(42)\n",
    "%matplotlib inline"
   ]
  },
  {
   "cell_type": "markdown",
   "metadata": {},
   "source": [
    "# Importing my already scaled data"
   ]
  },
  {
   "cell_type": "code",
   "execution_count": 2,
   "metadata": {},
   "outputs": [],
   "source": [
    "X_train_sc = pd.read_csv('../data/X_train_sc.csv')\n",
    "X_test_sc = pd.read_csv('../data/X_test_sc.csv')\n",
    "y_train = pd.read_csv('../data/y_train.csv')\n",
    "y_test = pd.read_csv('../data/y_test.csv')"
   ]
  },
  {
   "cell_type": "markdown",
   "metadata": {},
   "source": [
    "# Instantiaing  and fitting my model"
   ]
  },
  {
   "cell_type": "code",
   "execution_count": 3,
   "metadata": {},
   "outputs": [
    {
     "name": "stderr",
     "output_type": "stream",
     "text": [
      "/anaconda3/lib/python3.6/site-packages/sklearn/linear_model/coordinate_descent.py:1094: DataConversionWarning: A column-vector y was passed when a 1d array was expected. Please change the shape of y to (n_samples, ), for example using ravel().\n",
      "  y = column_or_1d(y, warn=True)\n"
     ]
    },
    {
     "data": {
      "text/plain": [
       "LassoCV(alphas=None, copy_X=True, cv=None, eps=0.001, fit_intercept=True,\n",
       "    max_iter=1000, n_alphas=500, n_jobs=1, normalize=False, positive=False,\n",
       "    precompute='auto', random_state=None, selection='cyclic', tol=0.0001,\n",
       "    verbose=False)"
      ]
     },
     "execution_count": 3,
     "metadata": {},
     "output_type": "execute_result"
    }
   ],
   "source": [
    "lasso = LassoCV(n_alphas = 500)\n",
    "lasso.fit(X_train_sc, y_train)"
   ]
  },
  {
   "cell_type": "code",
   "execution_count": 4,
   "metadata": {},
   "outputs": [
    {
     "data": {
      "text/plain": [
       "0.9427428011140983"
      ]
     },
     "execution_count": 4,
     "metadata": {},
     "output_type": "execute_result"
    }
   ],
   "source": [
    "lasso.score(X_train_sc, y_train)"
   ]
  },
  {
   "cell_type": "code",
   "execution_count": 5,
   "metadata": {},
   "outputs": [
    {
     "data": {
      "text/plain": [
       "0.931286112621823"
      ]
     },
     "execution_count": 5,
     "metadata": {},
     "output_type": "execute_result"
    }
   ],
   "source": [
    "lasso.score(X_test_sc, y_test)"
   ]
  },
  {
   "cell_type": "code",
   "execution_count": 6,
   "metadata": {},
   "outputs": [],
   "source": [
    "y_hat_train = lasso.predict(X_train_sc)\n",
    "y_hat_test = lasso.predict(X_test_sc)"
   ]
  },
  {
   "cell_type": "code",
   "execution_count": 7,
   "metadata": {},
   "outputs": [
    {
     "data": {
      "text/plain": [
       "19035.56821221147"
      ]
     },
     "execution_count": 7,
     "metadata": {},
     "output_type": "execute_result"
    }
   ],
   "source": [
    "mean_squared_error(y_train, y_hat_train) ** .5"
   ]
  },
  {
   "cell_type": "code",
   "execution_count": 8,
   "metadata": {},
   "outputs": [
    {
     "data": {
      "text/plain": [
       "20552.134717385536"
      ]
     },
     "execution_count": 8,
     "metadata": {},
     "output_type": "execute_result"
    }
   ],
   "source": [
    "mean_squared_error(y_test, y_hat_test) ** .5"
   ]
  },
  {
   "cell_type": "code",
   "execution_count": 9,
   "metadata": {},
   "outputs": [
    {
     "data": {
      "text/plain": [
       "181070.10980604656"
      ]
     },
     "execution_count": 9,
     "metadata": {},
     "output_type": "execute_result"
    }
   ],
   "source": [
    "lasso.intercept_"
   ]
  },
  {
   "cell_type": "code",
   "execution_count": 10,
   "metadata": {},
   "outputs": [],
   "source": [
    "with open('../assets/columns.pkl', 'rb') as f:\n",
    "    columns = pickle.load(f)"
   ]
  },
  {
   "cell_type": "code",
   "execution_count": 11,
   "metadata": {},
   "outputs": [
    {
     "data": {
      "text/html": [
       "<div>\n",
       "<style scoped>\n",
       "    .dataframe tbody tr th:only-of-type {\n",
       "        vertical-align: middle;\n",
       "    }\n",
       "\n",
       "    .dataframe tbody tr th {\n",
       "        vertical-align: top;\n",
       "    }\n",
       "\n",
       "    .dataframe thead th {\n",
       "        text-align: right;\n",
       "    }\n",
       "</style>\n",
       "<table border=\"1\" class=\"dataframe\">\n",
       "  <thead>\n",
       "    <tr style=\"text-align: right;\">\n",
       "      <th></th>\n",
       "      <th>weight</th>\n",
       "    </tr>\n",
       "  </thead>\n",
       "  <tbody>\n",
       "    <tr>\n",
       "      <th>Gr Liv Area</th>\n",
       "      <td>23471.178068</td>\n",
       "    </tr>\n",
       "    <tr>\n",
       "      <th>Total Bsmt SF</th>\n",
       "      <td>13996.739001</td>\n",
       "    </tr>\n",
       "    <tr>\n",
       "      <th>Overall Qual_9</th>\n",
       "      <td>8971.231104</td>\n",
       "    </tr>\n",
       "    <tr>\n",
       "      <th>Overall Qual_10</th>\n",
       "      <td>6991.115534</td>\n",
       "    </tr>\n",
       "    <tr>\n",
       "      <th>Year Built</th>\n",
       "      <td>6561.344276</td>\n",
       "    </tr>\n",
       "    <tr>\n",
       "      <th>Overall Qual_8</th>\n",
       "      <td>5428.658509</td>\n",
       "    </tr>\n",
       "    <tr>\n",
       "      <th>Neighborhood_StoneBr</th>\n",
       "      <td>4468.106529</td>\n",
       "    </tr>\n",
       "    <tr>\n",
       "      <th>Bldg Type_1Fam</th>\n",
       "      <td>4439.597261</td>\n",
       "    </tr>\n",
       "    <tr>\n",
       "      <th>Exter Qual_Ex</th>\n",
       "      <td>4313.314150</td>\n",
       "    </tr>\n",
       "    <tr>\n",
       "      <th>Lot Area</th>\n",
       "      <td>4143.704118</td>\n",
       "    </tr>\n",
       "    <tr>\n",
       "      <th>Bsmt Exposure_Gd</th>\n",
       "      <td>3815.957951</td>\n",
       "    </tr>\n",
       "    <tr>\n",
       "      <th>Garage Cars_3.0</th>\n",
       "      <td>3700.278952</td>\n",
       "    </tr>\n",
       "    <tr>\n",
       "      <th>Sale Type_New</th>\n",
       "      <td>3574.715304</td>\n",
       "    </tr>\n",
       "    <tr>\n",
       "      <th>Year Remod/Add</th>\n",
       "      <td>3552.454155</td>\n",
       "    </tr>\n",
       "    <tr>\n",
       "      <th>Neighborhood_GrnHill</th>\n",
       "      <td>3515.634729</td>\n",
       "    </tr>\n",
       "    <tr>\n",
       "      <th>Full Bath_3</th>\n",
       "      <td>3309.329036</td>\n",
       "    </tr>\n",
       "    <tr>\n",
       "      <th>Kitchen Qual_Ex</th>\n",
       "      <td>3298.776623</td>\n",
       "    </tr>\n",
       "    <tr>\n",
       "      <th>Neighborhood_NridgHt</th>\n",
       "      <td>3166.996232</td>\n",
       "    </tr>\n",
       "    <tr>\n",
       "      <th>Garage Area</th>\n",
       "      <td>3152.969254</td>\n",
       "    </tr>\n",
       "    <tr>\n",
       "      <th>Screen Porch</th>\n",
       "      <td>3117.985390</td>\n",
       "    </tr>\n",
       "  </tbody>\n",
       "</table>\n",
       "</div>"
      ],
      "text/plain": [
       "                            weight\n",
       "Gr Liv Area           23471.178068\n",
       "Total Bsmt SF         13996.739001\n",
       "Overall Qual_9         8971.231104\n",
       "Overall Qual_10        6991.115534\n",
       "Year Built             6561.344276\n",
       "Overall Qual_8         5428.658509\n",
       "Neighborhood_StoneBr   4468.106529\n",
       "Bldg Type_1Fam         4439.597261\n",
       "Exter Qual_Ex          4313.314150\n",
       "Lot Area               4143.704118\n",
       "Bsmt Exposure_Gd       3815.957951\n",
       "Garage Cars_3.0        3700.278952\n",
       "Sale Type_New          3574.715304\n",
       "Year Remod/Add         3552.454155\n",
       "Neighborhood_GrnHill   3515.634729\n",
       "Full Bath_3            3309.329036\n",
       "Kitchen Qual_Ex        3298.776623\n",
       "Neighborhood_NridgHt   3166.996232\n",
       "Garage Area            3152.969254\n",
       "Screen Porch           3117.985390"
      ]
     },
     "execution_count": 11,
     "metadata": {},
     "output_type": "execute_result"
    }
   ],
   "source": [
    "coef = pd.DataFrame(lasso.coef_, index = columns, columns=['weight'])\n",
    "coef.sort_values(by='weight', ascending=False).head(20)"
   ]
  },
  {
   "cell_type": "code",
   "execution_count": 12,
   "metadata": {},
   "outputs": [
    {
     "data": {
      "text/html": [
       "<div>\n",
       "<style scoped>\n",
       "    .dataframe tbody tr th:only-of-type {\n",
       "        vertical-align: middle;\n",
       "    }\n",
       "\n",
       "    .dataframe tbody tr th {\n",
       "        vertical-align: top;\n",
       "    }\n",
       "\n",
       "    .dataframe thead th {\n",
       "        text-align: right;\n",
       "    }\n",
       "</style>\n",
       "<table border=\"1\" class=\"dataframe\">\n",
       "  <thead>\n",
       "    <tr style=\"text-align: right;\">\n",
       "      <th></th>\n",
       "      <th>weight</th>\n",
       "    </tr>\n",
       "  </thead>\n",
       "  <tbody>\n",
       "    <tr>\n",
       "      <th>Roof Matl_ClyTile</th>\n",
       "      <td>-14491.812195</td>\n",
       "    </tr>\n",
       "    <tr>\n",
       "      <th>Misc Feature_Elev</th>\n",
       "      <td>-12566.326535</td>\n",
       "    </tr>\n",
       "    <tr>\n",
       "      <th>Bsmt Unf SF</th>\n",
       "      <td>-4979.101825</td>\n",
       "    </tr>\n",
       "    <tr>\n",
       "      <th>Overall Cond_3</th>\n",
       "      <td>-3235.280215</td>\n",
       "    </tr>\n",
       "    <tr>\n",
       "      <th>Exter Qual_TA</th>\n",
       "      <td>-2136.436807</td>\n",
       "    </tr>\n",
       "    <tr>\n",
       "      <th>Garage Type_2Types</th>\n",
       "      <td>-1640.383625</td>\n",
       "    </tr>\n",
       "    <tr>\n",
       "      <th>Fireplaces_0</th>\n",
       "      <td>-1632.541313</td>\n",
       "    </tr>\n",
       "    <tr>\n",
       "      <th>Functional_Maj1</th>\n",
       "      <td>-1613.546731</td>\n",
       "    </tr>\n",
       "    <tr>\n",
       "      <th>Half Bath_2</th>\n",
       "      <td>-1522.229704</td>\n",
       "    </tr>\n",
       "    <tr>\n",
       "      <th>Bedroom AbvGr_5</th>\n",
       "      <td>-1224.164656</td>\n",
       "    </tr>\n",
       "    <tr>\n",
       "      <th>Condition 1_Artery</th>\n",
       "      <td>-1169.101258</td>\n",
       "    </tr>\n",
       "    <tr>\n",
       "      <th>Overall Cond_4</th>\n",
       "      <td>-1125.469736</td>\n",
       "    </tr>\n",
       "    <tr>\n",
       "      <th>Roof Style_Mansard</th>\n",
       "      <td>-1049.115639</td>\n",
       "    </tr>\n",
       "    <tr>\n",
       "      <th>Overall Qual_5</th>\n",
       "      <td>-1041.661360</td>\n",
       "    </tr>\n",
       "    <tr>\n",
       "      <th>Overall Qual_4</th>\n",
       "      <td>-982.646511</td>\n",
       "    </tr>\n",
       "    <tr>\n",
       "      <th>Neighborhood_Edwards</th>\n",
       "      <td>-968.170133</td>\n",
       "    </tr>\n",
       "    <tr>\n",
       "      <th>Functional_Sev</th>\n",
       "      <td>-933.062076</td>\n",
       "    </tr>\n",
       "    <tr>\n",
       "      <th>Sale Type_COD</th>\n",
       "      <td>-930.655450</td>\n",
       "    </tr>\n",
       "    <tr>\n",
       "      <th>Misc Feature_TenC</th>\n",
       "      <td>-772.631583</td>\n",
       "    </tr>\n",
       "    <tr>\n",
       "      <th>Kitchen Qual_TA</th>\n",
       "      <td>-757.678847</td>\n",
       "    </tr>\n",
       "  </tbody>\n",
       "</table>\n",
       "</div>"
      ],
      "text/plain": [
       "                            weight\n",
       "Roof Matl_ClyTile    -14491.812195\n",
       "Misc Feature_Elev    -12566.326535\n",
       "Bsmt Unf SF           -4979.101825\n",
       "Overall Cond_3        -3235.280215\n",
       "Exter Qual_TA         -2136.436807\n",
       "Garage Type_2Types    -1640.383625\n",
       "Fireplaces_0          -1632.541313\n",
       "Functional_Maj1       -1613.546731\n",
       "Half Bath_2           -1522.229704\n",
       "Bedroom AbvGr_5       -1224.164656\n",
       "Condition 1_Artery    -1169.101258\n",
       "Overall Cond_4        -1125.469736\n",
       "Roof Style_Mansard    -1049.115639\n",
       "Overall Qual_5        -1041.661360\n",
       "Overall Qual_4         -982.646511\n",
       "Neighborhood_Edwards   -968.170133\n",
       "Functional_Sev         -933.062076\n",
       "Sale Type_COD          -930.655450\n",
       "Misc Feature_TenC      -772.631583\n",
       "Kitchen Qual_TA        -757.678847"
      ]
     },
     "execution_count": 12,
     "metadata": {},
     "output_type": "execute_result"
    }
   ],
   "source": [
    "coef = pd.DataFrame(lasso.coef_, index = columns, columns=['weight'])\n",
    "coef.sort_values(by='weight', ascending=True).head(20)"
   ]
  },
  {
   "cell_type": "code",
   "execution_count": 13,
   "metadata": {},
   "outputs": [],
   "source": [
    "with open('../assets/lasso.pkl', 'wb+') as f:\n",
    "    pickle.dump(lasso, f)"
   ]
  },
  {
   "cell_type": "code",
   "execution_count": null,
   "metadata": {},
   "outputs": [],
   "source": []
  },
  {
   "cell_type": "code",
   "execution_count": null,
   "metadata": {},
   "outputs": [],
   "source": []
  },
  {
   "cell_type": "code",
   "execution_count": null,
   "metadata": {},
   "outputs": [],
   "source": []
  },
  {
   "cell_type": "code",
   "execution_count": null,
   "metadata": {},
   "outputs": [],
   "source": []
  },
  {
   "cell_type": "code",
   "execution_count": null,
   "metadata": {},
   "outputs": [],
   "source": []
  },
  {
   "cell_type": "code",
   "execution_count": null,
   "metadata": {},
   "outputs": [],
   "source": []
  },
  {
   "cell_type": "code",
   "execution_count": null,
   "metadata": {},
   "outputs": [],
   "source": []
  },
  {
   "cell_type": "code",
   "execution_count": null,
   "metadata": {},
   "outputs": [],
   "source": []
  },
  {
   "cell_type": "code",
   "execution_count": null,
   "metadata": {},
   "outputs": [],
   "source": []
  },
  {
   "cell_type": "code",
   "execution_count": null,
   "metadata": {},
   "outputs": [],
   "source": []
  },
  {
   "cell_type": "code",
   "execution_count": null,
   "metadata": {},
   "outputs": [],
   "source": []
  },
  {
   "cell_type": "code",
   "execution_count": null,
   "metadata": {},
   "outputs": [],
   "source": []
  },
  {
   "cell_type": "code",
   "execution_count": null,
   "metadata": {},
   "outputs": [],
   "source": []
  },
  {
   "cell_type": "code",
   "execution_count": null,
   "metadata": {},
   "outputs": [],
   "source": []
  }
 ],
 "metadata": {
  "kernelspec": {
   "display_name": "Python 3",
   "language": "python",
   "name": "python3"
  },
  "language_info": {
   "codemirror_mode": {
    "name": "ipython",
    "version": 3
   },
   "file_extension": ".py",
   "mimetype": "text/x-python",
   "name": "python",
   "nbconvert_exporter": "python",
   "pygments_lexer": "ipython3",
   "version": "3.6.5"
  }
 },
 "nbformat": 4,
 "nbformat_minor": 2
}

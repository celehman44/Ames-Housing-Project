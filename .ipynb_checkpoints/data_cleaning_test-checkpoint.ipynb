{
 "cells": [
  {
   "cell_type": "code",
   "execution_count": 166,
   "metadata": {},
   "outputs": [],
   "source": [
    "import pandas as pd\n",
    "import numpy as np\n",
    "import matplotlib.pyplot as plt\n",
    "import seaborn as sns\n",
    "from sklearn.model_selection import cross_val_score, KFold, train_test_split\n",
    "from sklearn.preprocessing import StandardScaler\n",
    "from sklearn.linear_model import Ridge, Lasso, ElasticNet, LinearRegression, RidgeCV, LassoCV, ElasticNetCV\n",
    "from sklearn.metrics import mean_squared_error\n",
    "%matplotlib inline"
   ]
  },
  {
   "cell_type": "code",
   "execution_count": 167,
   "metadata": {
    "scrolled": true
   },
   "outputs": [],
   "source": [
    "df = pd.read_csv('./data/test.csv') #,index_col = 'Id')"
   ]
  },
  {
   "cell_type": "code",
   "execution_count": 168,
   "metadata": {},
   "outputs": [
    {
     "data": {
      "text/plain": [
       "Index(['Id', 'PID', 'MS SubClass', 'MS Zoning', 'Lot Frontage', 'Lot Area',\n",
       "       'Street', 'Alley', 'Lot Shape', 'Land Contour', 'Utilities',\n",
       "       'Lot Config', 'Land Slope', 'Neighborhood', 'Condition 1',\n",
       "       'Condition 2', 'Bldg Type', 'House Style', 'Overall Qual',\n",
       "       'Overall Cond', 'Year Built', 'Year Remod/Add', 'Roof Style',\n",
       "       'Roof Matl', 'Exterior 1st', 'Exterior 2nd', 'Mas Vnr Type',\n",
       "       'Mas Vnr Area', 'Exter Qual', 'Exter Cond', 'Foundation', 'Bsmt Qual',\n",
       "       'Bsmt Cond', 'Bsmt Exposure', 'BsmtFin Type 1', 'BsmtFin SF 1',\n",
       "       'BsmtFin Type 2', 'BsmtFin SF 2', 'Bsmt Unf SF', 'Total Bsmt SF',\n",
       "       'Heating', 'Heating QC', 'Central Air', 'Electrical', '1st Flr SF',\n",
       "       '2nd Flr SF', 'Low Qual Fin SF', 'Gr Liv Area', 'Bsmt Full Bath',\n",
       "       'Bsmt Half Bath', 'Full Bath', 'Half Bath', 'Bedroom AbvGr',\n",
       "       'Kitchen AbvGr', 'Kitchen Qual', 'TotRms AbvGrd', 'Functional',\n",
       "       'Fireplaces', 'Fireplace Qu', 'Garage Type', 'Garage Yr Blt',\n",
       "       'Garage Finish', 'Garage Cars', 'Garage Area', 'Garage Qual',\n",
       "       'Garage Cond', 'Paved Drive', 'Wood Deck SF', 'Open Porch SF',\n",
       "       'Enclosed Porch', '3Ssn Porch', 'Screen Porch', 'Pool Area', 'Pool QC',\n",
       "       'Fence', 'Misc Feature', 'Misc Val', 'Mo Sold', 'Yr Sold', 'Sale Type'],\n",
       "      dtype='object')"
      ]
     },
     "execution_count": 168,
     "metadata": {},
     "output_type": "execute_result"
    }
   ],
   "source": [
    "df.columns"
   ]
  },
  {
   "cell_type": "code",
   "execution_count": 169,
   "metadata": {},
   "outputs": [
    {
     "name": "stdout",
     "output_type": "stream",
     "text": [
      "<class 'pandas.core.frame.DataFrame'>\n",
      "RangeIndex: 879 entries, 0 to 878\n",
      "Data columns (total 80 columns):\n",
      "Id                 879 non-null int64\n",
      "PID                879 non-null int64\n",
      "MS SubClass        879 non-null int64\n",
      "MS Zoning          879 non-null object\n",
      "Lot Frontage       719 non-null float64\n",
      "Lot Area           879 non-null int64\n",
      "Street             879 non-null object\n",
      "Alley              58 non-null object\n",
      "Lot Shape          879 non-null object\n",
      "Land Contour       879 non-null object\n",
      "Utilities          879 non-null object\n",
      "Lot Config         879 non-null object\n",
      "Land Slope         879 non-null object\n",
      "Neighborhood       879 non-null object\n",
      "Condition 1        879 non-null object\n",
      "Condition 2        879 non-null object\n",
      "Bldg Type          879 non-null object\n",
      "House Style        879 non-null object\n",
      "Overall Qual       879 non-null int64\n",
      "Overall Cond       879 non-null int64\n",
      "Year Built         879 non-null int64\n",
      "Year Remod/Add     879 non-null int64\n",
      "Roof Style         879 non-null object\n",
      "Roof Matl          879 non-null object\n",
      "Exterior 1st       879 non-null object\n",
      "Exterior 2nd       879 non-null object\n",
      "Mas Vnr Type       878 non-null object\n",
      "Mas Vnr Area       878 non-null float64\n",
      "Exter Qual         879 non-null object\n",
      "Exter Cond         879 non-null object\n",
      "Foundation         879 non-null object\n",
      "Bsmt Qual          854 non-null object\n",
      "Bsmt Cond          854 non-null object\n",
      "Bsmt Exposure      854 non-null object\n",
      "BsmtFin Type 1     854 non-null object\n",
      "BsmtFin SF 1       879 non-null float64\n",
      "BsmtFin Type 2     854 non-null object\n",
      "BsmtFin SF 2       879 non-null float64\n",
      "Bsmt Unf SF        879 non-null float64\n",
      "Total Bsmt SF      879 non-null float64\n",
      "Heating            879 non-null object\n",
      "Heating QC         879 non-null object\n",
      "Central Air        879 non-null object\n",
      "Electrical         878 non-null object\n",
      "1st Flr SF         879 non-null int64\n",
      "2nd Flr SF         879 non-null int64\n",
      "Low Qual Fin SF    879 non-null int64\n",
      "Gr Liv Area        879 non-null int64\n",
      "Bsmt Full Bath     879 non-null float64\n",
      "Bsmt Half Bath     879 non-null float64\n",
      "Full Bath          879 non-null int64\n",
      "Half Bath          879 non-null int64\n",
      "Bedroom AbvGr      879 non-null int64\n",
      "Kitchen AbvGr      879 non-null int64\n",
      "Kitchen Qual       879 non-null object\n",
      "TotRms AbvGrd      879 non-null int64\n",
      "Functional         879 non-null object\n",
      "Fireplaces         879 non-null int64\n",
      "Fireplace Qu       457 non-null object\n",
      "Garage Type        835 non-null object\n",
      "Garage Yr Blt      834 non-null float64\n",
      "Garage Finish      834 non-null object\n",
      "Garage Cars        879 non-null float64\n",
      "Garage Area        879 non-null float64\n",
      "Garage Qual        834 non-null object\n",
      "Garage Cond        834 non-null object\n",
      "Paved Drive        879 non-null object\n",
      "Wood Deck SF       879 non-null int64\n",
      "Open Porch SF      879 non-null int64\n",
      "Enclosed Porch     879 non-null int64\n",
      "3Ssn Porch         879 non-null int64\n",
      "Screen Porch       879 non-null int64\n",
      "Pool Area          879 non-null int64\n",
      "Pool QC            4 non-null object\n",
      "Fence              172 non-null object\n",
      "Misc Feature       41 non-null object\n",
      "Misc Val           879 non-null int64\n",
      "Mo Sold            879 non-null int64\n",
      "Yr Sold            879 non-null int64\n",
      "Sale Type          879 non-null object\n",
      "dtypes: float64(11), int64(27), object(42)\n",
      "memory usage: 549.5+ KB\n"
     ]
    }
   ],
   "source": [
    "df.info()"
   ]
  },
  {
   "cell_type": "code",
   "execution_count": 170,
   "metadata": {},
   "outputs": [
    {
     "data": {
      "text/html": [
       "<div>\n",
       "<style scoped>\n",
       "    .dataframe tbody tr th:only-of-type {\n",
       "        vertical-align: middle;\n",
       "    }\n",
       "\n",
       "    .dataframe tbody tr th {\n",
       "        vertical-align: top;\n",
       "    }\n",
       "\n",
       "    .dataframe thead th {\n",
       "        text-align: right;\n",
       "    }\n",
       "</style>\n",
       "<table border=\"1\" class=\"dataframe\">\n",
       "  <thead>\n",
       "    <tr style=\"text-align: right;\">\n",
       "      <th></th>\n",
       "      <th>count</th>\n",
       "      <th>mean</th>\n",
       "      <th>std</th>\n",
       "      <th>min</th>\n",
       "      <th>25%</th>\n",
       "      <th>50%</th>\n",
       "      <th>75%</th>\n",
       "      <th>max</th>\n",
       "    </tr>\n",
       "  </thead>\n",
       "  <tbody>\n",
       "    <tr>\n",
       "      <th>Id</th>\n",
       "      <td>879.0</td>\n",
       "      <td>1.445588e+03</td>\n",
       "      <td>8.507171e+02</td>\n",
       "      <td>2.0</td>\n",
       "      <td>692.5</td>\n",
       "      <td>1435.0</td>\n",
       "      <td>2197.0</td>\n",
       "      <td>2.928000e+03</td>\n",
       "    </tr>\n",
       "    <tr>\n",
       "      <th>PID</th>\n",
       "      <td>879.0</td>\n",
       "      <td>7.165050e+08</td>\n",
       "      <td>1.889135e+08</td>\n",
       "      <td>526302110.0</td>\n",
       "      <td>528486085.0</td>\n",
       "      <td>535454160.0</td>\n",
       "      <td>907192140.0</td>\n",
       "      <td>1.007100e+09</td>\n",
       "    </tr>\n",
       "    <tr>\n",
       "      <th>MS SubClass</th>\n",
       "      <td>879.0</td>\n",
       "      <td>5.827076e+01</td>\n",
       "      <td>4.221139e+01</td>\n",
       "      <td>20.0</td>\n",
       "      <td>20.0</td>\n",
       "      <td>50.0</td>\n",
       "      <td>70.0</td>\n",
       "      <td>1.900000e+02</td>\n",
       "    </tr>\n",
       "    <tr>\n",
       "      <th>Lot Frontage</th>\n",
       "      <td>719.0</td>\n",
       "      <td>6.963004e+01</td>\n",
       "      <td>2.362537e+01</td>\n",
       "      <td>21.0</td>\n",
       "      <td>59.0</td>\n",
       "      <td>68.0</td>\n",
       "      <td>80.0</td>\n",
       "      <td>1.820000e+02</td>\n",
       "    </tr>\n",
       "    <tr>\n",
       "      <th>Lot Area</th>\n",
       "      <td>879.0</td>\n",
       "      <td>1.034092e+04</td>\n",
       "      <td>1.004734e+04</td>\n",
       "      <td>1477.0</td>\n",
       "      <td>7298.5</td>\n",
       "      <td>9453.0</td>\n",
       "      <td>11606.5</td>\n",
       "      <td>2.152450e+05</td>\n",
       "    </tr>\n",
       "    <tr>\n",
       "      <th>Overall Qual</th>\n",
       "      <td>879.0</td>\n",
       "      <td>6.054608e+00</td>\n",
       "      <td>1.374756e+00</td>\n",
       "      <td>2.0</td>\n",
       "      <td>5.0</td>\n",
       "      <td>6.0</td>\n",
       "      <td>7.0</td>\n",
       "      <td>1.000000e+01</td>\n",
       "    </tr>\n",
       "    <tr>\n",
       "      <th>Overall Cond</th>\n",
       "      <td>879.0</td>\n",
       "      <td>5.565415e+00</td>\n",
       "      <td>1.128422e+00</td>\n",
       "      <td>1.0</td>\n",
       "      <td>5.0</td>\n",
       "      <td>5.0</td>\n",
       "      <td>6.0</td>\n",
       "      <td>9.000000e+00</td>\n",
       "    </tr>\n",
       "    <tr>\n",
       "      <th>Year Built</th>\n",
       "      <td>879.0</td>\n",
       "      <td>1.970534e+03</td>\n",
       "      <td>3.040353e+01</td>\n",
       "      <td>1880.0</td>\n",
       "      <td>1954.0</td>\n",
       "      <td>1972.0</td>\n",
       "      <td>2000.0</td>\n",
       "      <td>2.010000e+03</td>\n",
       "    </tr>\n",
       "    <tr>\n",
       "      <th>Year Remod/Add</th>\n",
       "      <td>879.0</td>\n",
       "      <td>1.984445e+03</td>\n",
       "      <td>2.045455e+01</td>\n",
       "      <td>1950.0</td>\n",
       "      <td>1967.0</td>\n",
       "      <td>1992.0</td>\n",
       "      <td>2003.0</td>\n",
       "      <td>2.010000e+03</td>\n",
       "    </tr>\n",
       "    <tr>\n",
       "      <th>Mas Vnr Area</th>\n",
       "      <td>878.0</td>\n",
       "      <td>1.069829e+02</td>\n",
       "      <td>1.883568e+02</td>\n",
       "      <td>0.0</td>\n",
       "      <td>0.0</td>\n",
       "      <td>0.0</td>\n",
       "      <td>173.5</td>\n",
       "      <td>1.378000e+03</td>\n",
       "    </tr>\n",
       "    <tr>\n",
       "      <th>BsmtFin SF 1</th>\n",
       "      <td>879.0</td>\n",
       "      <td>4.433970e+02</td>\n",
       "      <td>4.424802e+02</td>\n",
       "      <td>0.0</td>\n",
       "      <td>0.0</td>\n",
       "      <td>374.0</td>\n",
       "      <td>735.5</td>\n",
       "      <td>2.288000e+03</td>\n",
       "    </tr>\n",
       "    <tr>\n",
       "      <th>BsmtFin SF 2</th>\n",
       "      <td>879.0</td>\n",
       "      <td>5.383504e+01</td>\n",
       "      <td>1.785399e+02</td>\n",
       "      <td>0.0</td>\n",
       "      <td>0.0</td>\n",
       "      <td>0.0</td>\n",
       "      <td>0.0</td>\n",
       "      <td>1.526000e+03</td>\n",
       "    </tr>\n",
       "    <tr>\n",
       "      <th>Bsmt Unf SF</th>\n",
       "      <td>879.0</td>\n",
       "      <td>5.395188e+02</td>\n",
       "      <td>4.260827e+02</td>\n",
       "      <td>0.0</td>\n",
       "      <td>216.0</td>\n",
       "      <td>453.0</td>\n",
       "      <td>781.5</td>\n",
       "      <td>2.046000e+03</td>\n",
       "    </tr>\n",
       "    <tr>\n",
       "      <th>Total Bsmt SF</th>\n",
       "      <td>879.0</td>\n",
       "      <td>1.036751e+03</td>\n",
       "      <td>4.192584e+02</td>\n",
       "      <td>0.0</td>\n",
       "      <td>790.0</td>\n",
       "      <td>975.0</td>\n",
       "      <td>1248.0</td>\n",
       "      <td>3.138000e+03</td>\n",
       "    </tr>\n",
       "    <tr>\n",
       "      <th>1st Flr SF</th>\n",
       "      <td>879.0</td>\n",
       "      <td>1.148053e+03</td>\n",
       "      <td>3.810223e+02</td>\n",
       "      <td>407.0</td>\n",
       "      <td>864.0</td>\n",
       "      <td>1064.0</td>\n",
       "      <td>1358.0</td>\n",
       "      <td>3.138000e+03</td>\n",
       "    </tr>\n",
       "    <tr>\n",
       "      <th>2nd Flr SF</th>\n",
       "      <td>879.0</td>\n",
       "      <td>3.497520e+02</td>\n",
       "      <td>4.345951e+02</td>\n",
       "      <td>0.0</td>\n",
       "      <td>0.0</td>\n",
       "      <td>0.0</td>\n",
       "      <td>720.0</td>\n",
       "      <td>2.065000e+03</td>\n",
       "    </tr>\n",
       "    <tr>\n",
       "      <th>Low Qual Fin SF</th>\n",
       "      <td>879.0</td>\n",
       "      <td>2.725825e+00</td>\n",
       "      <td>3.255412e+01</td>\n",
       "      <td>0.0</td>\n",
       "      <td>0.0</td>\n",
       "      <td>0.0</td>\n",
       "      <td>0.0</td>\n",
       "      <td>4.810000e+02</td>\n",
       "    </tr>\n",
       "    <tr>\n",
       "      <th>Gr Liv Area</th>\n",
       "      <td>879.0</td>\n",
       "      <td>1.500531e+03</td>\n",
       "      <td>5.174133e+02</td>\n",
       "      <td>407.0</td>\n",
       "      <td>1114.0</td>\n",
       "      <td>1436.0</td>\n",
       "      <td>1781.0</td>\n",
       "      <td>4.676000e+03</td>\n",
       "    </tr>\n",
       "    <tr>\n",
       "      <th>Bsmt Full Bath</th>\n",
       "      <td>879.0</td>\n",
       "      <td>4.402730e-01</td>\n",
       "      <td>5.299830e-01</td>\n",
       "      <td>0.0</td>\n",
       "      <td>0.0</td>\n",
       "      <td>0.0</td>\n",
       "      <td>1.0</td>\n",
       "      <td>2.000000e+00</td>\n",
       "    </tr>\n",
       "    <tr>\n",
       "      <th>Bsmt Half Bath</th>\n",
       "      <td>879.0</td>\n",
       "      <td>5.574516e-02</td>\n",
       "      <td>2.295596e-01</td>\n",
       "      <td>0.0</td>\n",
       "      <td>0.0</td>\n",
       "      <td>0.0</td>\n",
       "      <td>0.0</td>\n",
       "      <td>1.000000e+00</td>\n",
       "    </tr>\n",
       "    <tr>\n",
       "      <th>Full Bath</th>\n",
       "      <td>879.0</td>\n",
       "      <td>1.541524e+00</td>\n",
       "      <td>5.609079e-01</td>\n",
       "      <td>0.0</td>\n",
       "      <td>1.0</td>\n",
       "      <td>2.0</td>\n",
       "      <td>2.0</td>\n",
       "      <td>4.000000e+00</td>\n",
       "    </tr>\n",
       "    <tr>\n",
       "      <th>Half Bath</th>\n",
       "      <td>879.0</td>\n",
       "      <td>3.993174e-01</td>\n",
       "      <td>5.060450e-01</td>\n",
       "      <td>0.0</td>\n",
       "      <td>0.0</td>\n",
       "      <td>0.0</td>\n",
       "      <td>1.0</td>\n",
       "      <td>2.000000e+00</td>\n",
       "    </tr>\n",
       "    <tr>\n",
       "      <th>Bedroom AbvGr</th>\n",
       "      <td>879.0</td>\n",
       "      <td>2.879408e+00</td>\n",
       "      <td>8.302491e-01</td>\n",
       "      <td>0.0</td>\n",
       "      <td>2.0</td>\n",
       "      <td>3.0</td>\n",
       "      <td>3.0</td>\n",
       "      <td>6.000000e+00</td>\n",
       "    </tr>\n",
       "    <tr>\n",
       "      <th>Kitchen AbvGr</th>\n",
       "      <td>879.0</td>\n",
       "      <td>1.047782e+00</td>\n",
       "      <td>2.238440e-01</td>\n",
       "      <td>0.0</td>\n",
       "      <td>1.0</td>\n",
       "      <td>1.0</td>\n",
       "      <td>1.0</td>\n",
       "      <td>3.000000e+00</td>\n",
       "    </tr>\n",
       "    <tr>\n",
       "      <th>TotRms AbvGrd</th>\n",
       "      <td>879.0</td>\n",
       "      <td>6.459613e+00</td>\n",
       "      <td>1.603071e+00</td>\n",
       "      <td>3.0</td>\n",
       "      <td>5.0</td>\n",
       "      <td>6.0</td>\n",
       "      <td>7.0</td>\n",
       "      <td>1.200000e+01</td>\n",
       "    </tr>\n",
       "    <tr>\n",
       "      <th>Fireplaces</th>\n",
       "      <td>879.0</td>\n",
       "      <td>6.188851e-01</td>\n",
       "      <td>6.693131e-01</td>\n",
       "      <td>0.0</td>\n",
       "      <td>0.0</td>\n",
       "      <td>1.0</td>\n",
       "      <td>1.0</td>\n",
       "      <td>3.000000e+00</td>\n",
       "    </tr>\n",
       "    <tr>\n",
       "      <th>Garage Yr Blt</th>\n",
       "      <td>834.0</td>\n",
       "      <td>1.976796e+03</td>\n",
       "      <td>2.569568e+01</td>\n",
       "      <td>1900.0</td>\n",
       "      <td>1960.0</td>\n",
       "      <td>1978.0</td>\n",
       "      <td>2001.0</td>\n",
       "      <td>2.010000e+03</td>\n",
       "    </tr>\n",
       "    <tr>\n",
       "      <th>Garage Cars</th>\n",
       "      <td>879.0</td>\n",
       "      <td>1.744027e+00</td>\n",
       "      <td>7.511617e-01</td>\n",
       "      <td>0.0</td>\n",
       "      <td>1.0</td>\n",
       "      <td>2.0</td>\n",
       "      <td>2.0</td>\n",
       "      <td>4.000000e+00</td>\n",
       "    </tr>\n",
       "    <tr>\n",
       "      <th>Garage Area</th>\n",
       "      <td>879.0</td>\n",
       "      <td>4.708328e+02</td>\n",
       "      <td>2.130702e+02</td>\n",
       "      <td>0.0</td>\n",
       "      <td>323.0</td>\n",
       "      <td>473.0</td>\n",
       "      <td>576.0</td>\n",
       "      <td>1.488000e+03</td>\n",
       "    </tr>\n",
       "    <tr>\n",
       "      <th>Wood Deck SF</th>\n",
       "      <td>879.0</td>\n",
       "      <td>9.356086e+01</td>\n",
       "      <td>1.211743e+02</td>\n",
       "      <td>0.0</td>\n",
       "      <td>0.0</td>\n",
       "      <td>0.0</td>\n",
       "      <td>171.0</td>\n",
       "      <td>6.900000e+02</td>\n",
       "    </tr>\n",
       "    <tr>\n",
       "      <th>Open Porch SF</th>\n",
       "      <td>879.0</td>\n",
       "      <td>4.747895e+01</td>\n",
       "      <td>6.920918e+01</td>\n",
       "      <td>0.0</td>\n",
       "      <td>0.0</td>\n",
       "      <td>27.0</td>\n",
       "      <td>70.0</td>\n",
       "      <td>7.420000e+02</td>\n",
       "    </tr>\n",
       "    <tr>\n",
       "      <th>Enclosed Porch</th>\n",
       "      <td>879.0</td>\n",
       "      <td>2.403754e+01</td>\n",
       "      <td>7.321224e+01</td>\n",
       "      <td>0.0</td>\n",
       "      <td>0.0</td>\n",
       "      <td>0.0</td>\n",
       "      <td>0.0</td>\n",
       "      <td>1.012000e+03</td>\n",
       "    </tr>\n",
       "    <tr>\n",
       "      <th>3Ssn Porch</th>\n",
       "      <td>879.0</td>\n",
       "      <td>2.594994e+00</td>\n",
       "      <td>2.494842e+01</td>\n",
       "      <td>0.0</td>\n",
       "      <td>0.0</td>\n",
       "      <td>0.0</td>\n",
       "      <td>0.0</td>\n",
       "      <td>3.600000e+02</td>\n",
       "    </tr>\n",
       "    <tr>\n",
       "      <th>Screen Porch</th>\n",
       "      <td>879.0</td>\n",
       "      <td>1.481342e+01</td>\n",
       "      <td>5.297596e+01</td>\n",
       "      <td>0.0</td>\n",
       "      <td>0.0</td>\n",
       "      <td>0.0</td>\n",
       "      <td>0.0</td>\n",
       "      <td>5.760000e+02</td>\n",
       "    </tr>\n",
       "    <tr>\n",
       "      <th>Pool Area</th>\n",
       "      <td>879.0</td>\n",
       "      <td>1.882821e+00</td>\n",
       "      <td>2.989970e+01</td>\n",
       "      <td>0.0</td>\n",
       "      <td>0.0</td>\n",
       "      <td>0.0</td>\n",
       "      <td>0.0</td>\n",
       "      <td>5.550000e+02</td>\n",
       "    </tr>\n",
       "    <tr>\n",
       "      <th>Misc Val</th>\n",
       "      <td>879.0</td>\n",
       "      <td>4.844369e+01</td>\n",
       "      <td>5.498584e+02</td>\n",
       "      <td>0.0</td>\n",
       "      <td>0.0</td>\n",
       "      <td>0.0</td>\n",
       "      <td>0.0</td>\n",
       "      <td>1.550000e+04</td>\n",
       "    </tr>\n",
       "    <tr>\n",
       "      <th>Mo Sold</th>\n",
       "      <td>879.0</td>\n",
       "      <td>6.207053e+00</td>\n",
       "      <td>2.644097e+00</td>\n",
       "      <td>1.0</td>\n",
       "      <td>5.0</td>\n",
       "      <td>6.0</td>\n",
       "      <td>8.0</td>\n",
       "      <td>1.200000e+01</td>\n",
       "    </tr>\n",
       "    <tr>\n",
       "      <th>Yr Sold</th>\n",
       "      <td>879.0</td>\n",
       "      <td>2.007825e+03</td>\n",
       "      <td>1.327396e+00</td>\n",
       "      <td>2006.0</td>\n",
       "      <td>2007.0</td>\n",
       "      <td>2008.0</td>\n",
       "      <td>2009.0</td>\n",
       "      <td>2.010000e+03</td>\n",
       "    </tr>\n",
       "  </tbody>\n",
       "</table>\n",
       "</div>"
      ],
      "text/plain": [
       "                 count          mean           std          min          25%  \\\n",
       "Id               879.0  1.445588e+03  8.507171e+02          2.0        692.5   \n",
       "PID              879.0  7.165050e+08  1.889135e+08  526302110.0  528486085.0   \n",
       "MS SubClass      879.0  5.827076e+01  4.221139e+01         20.0         20.0   \n",
       "Lot Frontage     719.0  6.963004e+01  2.362537e+01         21.0         59.0   \n",
       "Lot Area         879.0  1.034092e+04  1.004734e+04       1477.0       7298.5   \n",
       "Overall Qual     879.0  6.054608e+00  1.374756e+00          2.0          5.0   \n",
       "Overall Cond     879.0  5.565415e+00  1.128422e+00          1.0          5.0   \n",
       "Year Built       879.0  1.970534e+03  3.040353e+01       1880.0       1954.0   \n",
       "Year Remod/Add   879.0  1.984445e+03  2.045455e+01       1950.0       1967.0   \n",
       "Mas Vnr Area     878.0  1.069829e+02  1.883568e+02          0.0          0.0   \n",
       "BsmtFin SF 1     879.0  4.433970e+02  4.424802e+02          0.0          0.0   \n",
       "BsmtFin SF 2     879.0  5.383504e+01  1.785399e+02          0.0          0.0   \n",
       "Bsmt Unf SF      879.0  5.395188e+02  4.260827e+02          0.0        216.0   \n",
       "Total Bsmt SF    879.0  1.036751e+03  4.192584e+02          0.0        790.0   \n",
       "1st Flr SF       879.0  1.148053e+03  3.810223e+02        407.0        864.0   \n",
       "2nd Flr SF       879.0  3.497520e+02  4.345951e+02          0.0          0.0   \n",
       "Low Qual Fin SF  879.0  2.725825e+00  3.255412e+01          0.0          0.0   \n",
       "Gr Liv Area      879.0  1.500531e+03  5.174133e+02        407.0       1114.0   \n",
       "Bsmt Full Bath   879.0  4.402730e-01  5.299830e-01          0.0          0.0   \n",
       "Bsmt Half Bath   879.0  5.574516e-02  2.295596e-01          0.0          0.0   \n",
       "Full Bath        879.0  1.541524e+00  5.609079e-01          0.0          1.0   \n",
       "Half Bath        879.0  3.993174e-01  5.060450e-01          0.0          0.0   \n",
       "Bedroom AbvGr    879.0  2.879408e+00  8.302491e-01          0.0          2.0   \n",
       "Kitchen AbvGr    879.0  1.047782e+00  2.238440e-01          0.0          1.0   \n",
       "TotRms AbvGrd    879.0  6.459613e+00  1.603071e+00          3.0          5.0   \n",
       "Fireplaces       879.0  6.188851e-01  6.693131e-01          0.0          0.0   \n",
       "Garage Yr Blt    834.0  1.976796e+03  2.569568e+01       1900.0       1960.0   \n",
       "Garage Cars      879.0  1.744027e+00  7.511617e-01          0.0          1.0   \n",
       "Garage Area      879.0  4.708328e+02  2.130702e+02          0.0        323.0   \n",
       "Wood Deck SF     879.0  9.356086e+01  1.211743e+02          0.0          0.0   \n",
       "Open Porch SF    879.0  4.747895e+01  6.920918e+01          0.0          0.0   \n",
       "Enclosed Porch   879.0  2.403754e+01  7.321224e+01          0.0          0.0   \n",
       "3Ssn Porch       879.0  2.594994e+00  2.494842e+01          0.0          0.0   \n",
       "Screen Porch     879.0  1.481342e+01  5.297596e+01          0.0          0.0   \n",
       "Pool Area        879.0  1.882821e+00  2.989970e+01          0.0          0.0   \n",
       "Misc Val         879.0  4.844369e+01  5.498584e+02          0.0          0.0   \n",
       "Mo Sold          879.0  6.207053e+00  2.644097e+00          1.0          5.0   \n",
       "Yr Sold          879.0  2.007825e+03  1.327396e+00       2006.0       2007.0   \n",
       "\n",
       "                         50%          75%           max  \n",
       "Id                    1435.0       2197.0  2.928000e+03  \n",
       "PID              535454160.0  907192140.0  1.007100e+09  \n",
       "MS SubClass             50.0         70.0  1.900000e+02  \n",
       "Lot Frontage            68.0         80.0  1.820000e+02  \n",
       "Lot Area              9453.0      11606.5  2.152450e+05  \n",
       "Overall Qual             6.0          7.0  1.000000e+01  \n",
       "Overall Cond             5.0          6.0  9.000000e+00  \n",
       "Year Built            1972.0       2000.0  2.010000e+03  \n",
       "Year Remod/Add        1992.0       2003.0  2.010000e+03  \n",
       "Mas Vnr Area             0.0        173.5  1.378000e+03  \n",
       "BsmtFin SF 1           374.0        735.5  2.288000e+03  \n",
       "BsmtFin SF 2             0.0          0.0  1.526000e+03  \n",
       "Bsmt Unf SF            453.0        781.5  2.046000e+03  \n",
       "Total Bsmt SF          975.0       1248.0  3.138000e+03  \n",
       "1st Flr SF            1064.0       1358.0  3.138000e+03  \n",
       "2nd Flr SF               0.0        720.0  2.065000e+03  \n",
       "Low Qual Fin SF          0.0          0.0  4.810000e+02  \n",
       "Gr Liv Area           1436.0       1781.0  4.676000e+03  \n",
       "Bsmt Full Bath           0.0          1.0  2.000000e+00  \n",
       "Bsmt Half Bath           0.0          0.0  1.000000e+00  \n",
       "Full Bath                2.0          2.0  4.000000e+00  \n",
       "Half Bath                0.0          1.0  2.000000e+00  \n",
       "Bedroom AbvGr            3.0          3.0  6.000000e+00  \n",
       "Kitchen AbvGr            1.0          1.0  3.000000e+00  \n",
       "TotRms AbvGrd            6.0          7.0  1.200000e+01  \n",
       "Fireplaces               1.0          1.0  3.000000e+00  \n",
       "Garage Yr Blt         1978.0       2001.0  2.010000e+03  \n",
       "Garage Cars              2.0          2.0  4.000000e+00  \n",
       "Garage Area            473.0        576.0  1.488000e+03  \n",
       "Wood Deck SF             0.0        171.0  6.900000e+02  \n",
       "Open Porch SF           27.0         70.0  7.420000e+02  \n",
       "Enclosed Porch           0.0          0.0  1.012000e+03  \n",
       "3Ssn Porch               0.0          0.0  3.600000e+02  \n",
       "Screen Porch             0.0          0.0  5.760000e+02  \n",
       "Pool Area                0.0          0.0  5.550000e+02  \n",
       "Misc Val                 0.0          0.0  1.550000e+04  \n",
       "Mo Sold                  6.0          8.0  1.200000e+01  \n",
       "Yr Sold               2008.0       2009.0  2.010000e+03  "
      ]
     },
     "execution_count": 170,
     "metadata": {},
     "output_type": "execute_result"
    }
   ],
   "source": [
    "df.describe().T"
   ]
  },
  {
   "cell_type": "code",
   "execution_count": 171,
   "metadata": {},
   "outputs": [
    {
     "data": {
      "text/plain": [
       "array(['Detchd', 'Attchd', 'BuiltIn', nan, '2Types', 'CarPort', 'Basment'],\n",
       "      dtype=object)"
      ]
     },
     "execution_count": 171,
     "metadata": {},
     "output_type": "execute_result"
    }
   ],
   "source": [
    "df['Garage Type'].unique()"
   ]
  },
  {
   "cell_type": "code",
   "execution_count": 172,
   "metadata": {},
   "outputs": [
    {
     "data": {
      "text/html": [
       "<div>\n",
       "<style scoped>\n",
       "    .dataframe tbody tr th:only-of-type {\n",
       "        vertical-align: middle;\n",
       "    }\n",
       "\n",
       "    .dataframe tbody tr th {\n",
       "        vertical-align: top;\n",
       "    }\n",
       "\n",
       "    .dataframe thead th {\n",
       "        text-align: right;\n",
       "    }\n",
       "</style>\n",
       "<table border=\"1\" class=\"dataframe\">\n",
       "  <thead>\n",
       "    <tr style=\"text-align: right;\">\n",
       "      <th></th>\n",
       "      <th>Id</th>\n",
       "      <th>PID</th>\n",
       "      <th>MS SubClass</th>\n",
       "      <th>MS Zoning</th>\n",
       "      <th>Lot Frontage</th>\n",
       "      <th>Lot Area</th>\n",
       "      <th>Street</th>\n",
       "      <th>Alley</th>\n",
       "      <th>Lot Shape</th>\n",
       "      <th>Land Contour</th>\n",
       "      <th>...</th>\n",
       "      <th>3Ssn Porch</th>\n",
       "      <th>Screen Porch</th>\n",
       "      <th>Pool Area</th>\n",
       "      <th>Pool QC</th>\n",
       "      <th>Fence</th>\n",
       "      <th>Misc Feature</th>\n",
       "      <th>Misc Val</th>\n",
       "      <th>Mo Sold</th>\n",
       "      <th>Yr Sold</th>\n",
       "      <th>Sale Type</th>\n",
       "    </tr>\n",
       "  </thead>\n",
       "  <tbody>\n",
       "    <tr>\n",
       "      <th>0</th>\n",
       "      <td>2658</td>\n",
       "      <td>902301120</td>\n",
       "      <td>190</td>\n",
       "      <td>RM</td>\n",
       "      <td>69.0</td>\n",
       "      <td>9142</td>\n",
       "      <td>Pave</td>\n",
       "      <td>Grvl</td>\n",
       "      <td>Reg</td>\n",
       "      <td>Lvl</td>\n",
       "      <td>...</td>\n",
       "      <td>0</td>\n",
       "      <td>0</td>\n",
       "      <td>0</td>\n",
       "      <td>NaN</td>\n",
       "      <td>NaN</td>\n",
       "      <td>NaN</td>\n",
       "      <td>0</td>\n",
       "      <td>4</td>\n",
       "      <td>2006</td>\n",
       "      <td>WD</td>\n",
       "    </tr>\n",
       "    <tr>\n",
       "      <th>1</th>\n",
       "      <td>2718</td>\n",
       "      <td>905108090</td>\n",
       "      <td>90</td>\n",
       "      <td>RL</td>\n",
       "      <td>NaN</td>\n",
       "      <td>9662</td>\n",
       "      <td>Pave</td>\n",
       "      <td>NaN</td>\n",
       "      <td>IR1</td>\n",
       "      <td>Lvl</td>\n",
       "      <td>...</td>\n",
       "      <td>0</td>\n",
       "      <td>0</td>\n",
       "      <td>0</td>\n",
       "      <td>NaN</td>\n",
       "      <td>NaN</td>\n",
       "      <td>NaN</td>\n",
       "      <td>0</td>\n",
       "      <td>8</td>\n",
       "      <td>2006</td>\n",
       "      <td>WD</td>\n",
       "    </tr>\n",
       "    <tr>\n",
       "      <th>2</th>\n",
       "      <td>2414</td>\n",
       "      <td>528218130</td>\n",
       "      <td>60</td>\n",
       "      <td>RL</td>\n",
       "      <td>58.0</td>\n",
       "      <td>17104</td>\n",
       "      <td>Pave</td>\n",
       "      <td>NaN</td>\n",
       "      <td>IR1</td>\n",
       "      <td>Lvl</td>\n",
       "      <td>...</td>\n",
       "      <td>0</td>\n",
       "      <td>0</td>\n",
       "      <td>0</td>\n",
       "      <td>NaN</td>\n",
       "      <td>NaN</td>\n",
       "      <td>NaN</td>\n",
       "      <td>0</td>\n",
       "      <td>9</td>\n",
       "      <td>2006</td>\n",
       "      <td>New</td>\n",
       "    </tr>\n",
       "    <tr>\n",
       "      <th>3</th>\n",
       "      <td>1989</td>\n",
       "      <td>902207150</td>\n",
       "      <td>30</td>\n",
       "      <td>RM</td>\n",
       "      <td>60.0</td>\n",
       "      <td>8520</td>\n",
       "      <td>Pave</td>\n",
       "      <td>NaN</td>\n",
       "      <td>Reg</td>\n",
       "      <td>Lvl</td>\n",
       "      <td>...</td>\n",
       "      <td>0</td>\n",
       "      <td>0</td>\n",
       "      <td>0</td>\n",
       "      <td>NaN</td>\n",
       "      <td>NaN</td>\n",
       "      <td>NaN</td>\n",
       "      <td>0</td>\n",
       "      <td>7</td>\n",
       "      <td>2007</td>\n",
       "      <td>WD</td>\n",
       "    </tr>\n",
       "    <tr>\n",
       "      <th>4</th>\n",
       "      <td>625</td>\n",
       "      <td>535105100</td>\n",
       "      <td>20</td>\n",
       "      <td>RL</td>\n",
       "      <td>NaN</td>\n",
       "      <td>9500</td>\n",
       "      <td>Pave</td>\n",
       "      <td>NaN</td>\n",
       "      <td>IR1</td>\n",
       "      <td>Lvl</td>\n",
       "      <td>...</td>\n",
       "      <td>0</td>\n",
       "      <td>185</td>\n",
       "      <td>0</td>\n",
       "      <td>NaN</td>\n",
       "      <td>NaN</td>\n",
       "      <td>NaN</td>\n",
       "      <td>0</td>\n",
       "      <td>7</td>\n",
       "      <td>2009</td>\n",
       "      <td>WD</td>\n",
       "    </tr>\n",
       "  </tbody>\n",
       "</table>\n",
       "<p>5 rows × 80 columns</p>\n",
       "</div>"
      ],
      "text/plain": [
       "     Id        PID  MS SubClass MS Zoning  Lot Frontage  Lot Area Street  \\\n",
       "0  2658  902301120          190        RM          69.0      9142   Pave   \n",
       "1  2718  905108090           90        RL           NaN      9662   Pave   \n",
       "2  2414  528218130           60        RL          58.0     17104   Pave   \n",
       "3  1989  902207150           30        RM          60.0      8520   Pave   \n",
       "4   625  535105100           20        RL           NaN      9500   Pave   \n",
       "\n",
       "  Alley Lot Shape Land Contour    ...     3Ssn Porch Screen Porch Pool Area  \\\n",
       "0  Grvl       Reg          Lvl    ...              0            0         0   \n",
       "1   NaN       IR1          Lvl    ...              0            0         0   \n",
       "2   NaN       IR1          Lvl    ...              0            0         0   \n",
       "3   NaN       Reg          Lvl    ...              0            0         0   \n",
       "4   NaN       IR1          Lvl    ...              0          185         0   \n",
       "\n",
       "  Pool QC Fence Misc Feature Misc Val Mo Sold  Yr Sold  Sale Type  \n",
       "0     NaN   NaN          NaN        0       4     2006        WD   \n",
       "1     NaN   NaN          NaN        0       8     2006        WD   \n",
       "2     NaN   NaN          NaN        0       9     2006        New  \n",
       "3     NaN   NaN          NaN        0       7     2007        WD   \n",
       "4     NaN   NaN          NaN        0       7     2009        WD   \n",
       "\n",
       "[5 rows x 80 columns]"
      ]
     },
     "execution_count": 172,
     "metadata": {},
     "output_type": "execute_result"
    }
   ],
   "source": [
    "df.head()"
   ]
  },
  {
   "cell_type": "code",
   "execution_count": 173,
   "metadata": {},
   "outputs": [
    {
     "name": "stderr",
     "output_type": "stream",
     "text": [
      "/anaconda3/lib/python3.6/site-packages/ipykernel_launcher.py:2: SettingWithCopyWarning: \n",
      "A value is trying to be set on a copy of a slice from a DataFrame\n",
      "\n",
      "See the caveats in the documentation: http://pandas.pydata.org/pandas-docs/stable/indexing.html#indexing-view-versus-copy\n",
      "  \n"
     ]
    },
    {
     "data": {
      "text/plain": [
       "array([ 69.,   0.,  58.,  60.,  21.,  52.,  39.,  75.,  50.,  68.,  80.,\n",
       "       121.,  51.,  65.,  74.,  73.,  40.,  46.,  61.,  85., 136.,  34.,\n",
       "        70.,  59., 130., 100.,  77., 131.,  67.,  79.,  98.,  53.,  95.,\n",
       "        37., 106.,  90., 120.,  72.,  76., 118.,  24.,  78.,  86., 102.,\n",
       "        66., 112.,  63.,  57., 110.,  89., 103., 105.,  48.,  43., 160.,\n",
       "        31.,  55.,  84.,  44., 150.,  35.,  64.,  71., 122., 174.,  49.,\n",
       "        47.,  93.,  56., 149.,  87., 168.,  82.,  36.,  41.,  96.,  88.,\n",
       "        83.,  45.,  94.,  54.,  30., 124.,  81.,  42., 152., 115., 113.,\n",
       "       101., 104., 116.,  62., 114., 107.,  33.,  99.,  91.,  97., 126.,\n",
       "        28., 108., 133.,  32.,  92., 182.])"
      ]
     },
     "execution_count": 173,
     "metadata": {},
     "output_type": "execute_result"
    }
   ],
   "source": [
    "# data cleaning\n",
    "df['Lot Frontage'][df['Lot Frontage'].isnull()] = 0\n",
    "df['Lot Frontage'].unique()"
   ]
  },
  {
   "cell_type": "code",
   "execution_count": 174,
   "metadata": {},
   "outputs": [
    {
     "data": {
      "text/plain": [
       "0"
      ]
     },
     "execution_count": 174,
     "metadata": {},
     "output_type": "execute_result"
    }
   ],
   "source": [
    "df['Lot Frontage'].isnull().sum()"
   ]
  },
  {
   "cell_type": "code",
   "execution_count": 175,
   "metadata": {},
   "outputs": [
    {
     "name": "stderr",
     "output_type": "stream",
     "text": [
      "/anaconda3/lib/python3.6/site-packages/ipykernel_launcher.py:1: SettingWithCopyWarning: \n",
      "A value is trying to be set on a copy of a slice from a DataFrame\n",
      "\n",
      "See the caveats in the documentation: http://pandas.pydata.org/pandas-docs/stable/indexing.html#indexing-view-versus-copy\n",
      "  \"\"\"Entry point for launching an IPython kernel.\n"
     ]
    },
    {
     "data": {
      "text/plain": [
       "No Alley    821\n",
       "Grvl         35\n",
       "Pave         23\n",
       "Name: Alley, dtype: int64"
      ]
     },
     "execution_count": 175,
     "metadata": {},
     "output_type": "execute_result"
    }
   ],
   "source": [
    "df['Alley'][df['Alley'].isnull()] = 'No Alley'\n",
    "df['Alley'].value_counts()"
   ]
  },
  {
   "cell_type": "code",
   "execution_count": 176,
   "metadata": {},
   "outputs": [
    {
     "name": "stderr",
     "output_type": "stream",
     "text": [
      "/anaconda3/lib/python3.6/site-packages/ipykernel_launcher.py:1: SettingWithCopyWarning: \n",
      "A value is trying to be set on a copy of a slice from a DataFrame\n",
      "\n",
      "See the caveats in the documentation: http://pandas.pydata.org/pandas-docs/stable/indexing.html#indexing-view-versus-copy\n",
      "  \"\"\"Entry point for launching an IPython kernel.\n"
     ]
    },
    {
     "data": {
      "text/plain": [
       "array(['None', 'BrkFace', 'Stone', 'BrkCmn', 'CBlock'], dtype=object)"
      ]
     },
     "execution_count": 176,
     "metadata": {},
     "output_type": "execute_result"
    }
   ],
   "source": [
    "df['Mas Vnr Type'][df['Mas Vnr Type'].isnull()] = 'None'\n",
    "df['Mas Vnr Type'].unique()"
   ]
  },
  {
   "cell_type": "code",
   "execution_count": 177,
   "metadata": {},
   "outputs": [
    {
     "name": "stderr",
     "output_type": "stream",
     "text": [
      "/anaconda3/lib/python3.6/site-packages/ipykernel_launcher.py:1: SettingWithCopyWarning: \n",
      "A value is trying to be set on a copy of a slice from a DataFrame\n",
      "\n",
      "See the caveats in the documentation: http://pandas.pydata.org/pandas-docs/stable/indexing.html#indexing-view-versus-copy\n",
      "  \"\"\"Entry point for launching an IPython kernel.\n"
     ]
    }
   ],
   "source": [
    "df['Mas Vnr Area'][df['Mas Vnr Area'].isnull()] = 0"
   ]
  },
  {
   "cell_type": "code",
   "execution_count": 178,
   "metadata": {},
   "outputs": [
    {
     "name": "stderr",
     "output_type": "stream",
     "text": [
      "/anaconda3/lib/python3.6/site-packages/ipykernel_launcher.py:1: SettingWithCopyWarning: \n",
      "A value is trying to be set on a copy of a slice from a DataFrame\n",
      "\n",
      "See the caveats in the documentation: http://pandas.pydata.org/pandas-docs/stable/indexing.html#indexing-view-versus-copy\n",
      "  \"\"\"Entry point for launching an IPython kernel.\n"
     ]
    },
    {
     "data": {
      "text/plain": [
       "array(['Fa', 'Gd', 'TA', 'Ex', 'No Basement', 'Po'], dtype=object)"
      ]
     },
     "execution_count": 178,
     "metadata": {},
     "output_type": "execute_result"
    }
   ],
   "source": [
    "df['Bsmt Qual'][df['Bsmt Qual'].isnull()] = 'No Basement'\n",
    "df['Bsmt Qual'].unique()"
   ]
  },
  {
   "cell_type": "code",
   "execution_count": 179,
   "metadata": {},
   "outputs": [],
   "source": [
    "#df[df['BsmtFin SF 1'].isnull()]"
   ]
  },
  {
   "cell_type": "code",
   "execution_count": 180,
   "metadata": {},
   "outputs": [
    {
     "name": "stderr",
     "output_type": "stream",
     "text": [
      "/anaconda3/lib/python3.6/site-packages/ipykernel_launcher.py:1: SettingWithCopyWarning: \n",
      "A value is trying to be set on a copy of a slice from a DataFrame\n",
      "\n",
      "See the caveats in the documentation: http://pandas.pydata.org/pandas-docs/stable/indexing.html#indexing-view-versus-copy\n",
      "  \"\"\"Entry point for launching an IPython kernel.\n"
     ]
    }
   ],
   "source": [
    "df['Bsmt Cond'][df['Bsmt Cond'].isnull()] = 'No Basement'"
   ]
  },
  {
   "cell_type": "code",
   "execution_count": 181,
   "metadata": {},
   "outputs": [
    {
     "name": "stderr",
     "output_type": "stream",
     "text": [
      "/anaconda3/lib/python3.6/site-packages/ipykernel_launcher.py:1: SettingWithCopyWarning: \n",
      "A value is trying to be set on a copy of a slice from a DataFrame\n",
      "\n",
      "See the caveats in the documentation: http://pandas.pydata.org/pandas-docs/stable/indexing.html#indexing-view-versus-copy\n",
      "  \"\"\"Entry point for launching an IPython kernel.\n"
     ]
    }
   ],
   "source": [
    "df['Bsmt Exposure'][df['Bsmt Exposure'].isnull()] = 'No Basement'"
   ]
  },
  {
   "cell_type": "code",
   "execution_count": 182,
   "metadata": {},
   "outputs": [
    {
     "name": "stderr",
     "output_type": "stream",
     "text": [
      "/anaconda3/lib/python3.6/site-packages/ipykernel_launcher.py:1: SettingWithCopyWarning: \n",
      "A value is trying to be set on a copy of a slice from a DataFrame\n",
      "\n",
      "See the caveats in the documentation: http://pandas.pydata.org/pandas-docs/stable/indexing.html#indexing-view-versus-copy\n",
      "  \"\"\"Entry point for launching an IPython kernel.\n"
     ]
    }
   ],
   "source": [
    "df['BsmtFin Type 1'][df['BsmtFin Type 1'].isnull()] = 'No Basement'"
   ]
  },
  {
   "cell_type": "code",
   "execution_count": 183,
   "metadata": {},
   "outputs": [
    {
     "name": "stderr",
     "output_type": "stream",
     "text": [
      "/anaconda3/lib/python3.6/site-packages/ipykernel_launcher.py:1: SettingWithCopyWarning: \n",
      "A value is trying to be set on a copy of a slice from a DataFrame\n",
      "\n",
      "See the caveats in the documentation: http://pandas.pydata.org/pandas-docs/stable/indexing.html#indexing-view-versus-copy\n",
      "  \"\"\"Entry point for launching an IPython kernel.\n"
     ]
    }
   ],
   "source": [
    "df['BsmtFin SF 1'][df['BsmtFin SF 1'].isnull()] = 0"
   ]
  },
  {
   "cell_type": "code",
   "execution_count": 184,
   "metadata": {},
   "outputs": [
    {
     "name": "stderr",
     "output_type": "stream",
     "text": [
      "/anaconda3/lib/python3.6/site-packages/ipykernel_launcher.py:1: SettingWithCopyWarning: \n",
      "A value is trying to be set on a copy of a slice from a DataFrame\n",
      "\n",
      "See the caveats in the documentation: http://pandas.pydata.org/pandas-docs/stable/indexing.html#indexing-view-versus-copy\n",
      "  \"\"\"Entry point for launching an IPython kernel.\n"
     ]
    }
   ],
   "source": [
    "df['BsmtFin Type 2'][df['BsmtFin Type 2'].isnull()] = 'No Basement'"
   ]
  },
  {
   "cell_type": "code",
   "execution_count": 185,
   "metadata": {},
   "outputs": [
    {
     "name": "stderr",
     "output_type": "stream",
     "text": [
      "/anaconda3/lib/python3.6/site-packages/ipykernel_launcher.py:1: SettingWithCopyWarning: \n",
      "A value is trying to be set on a copy of a slice from a DataFrame\n",
      "\n",
      "See the caveats in the documentation: http://pandas.pydata.org/pandas-docs/stable/indexing.html#indexing-view-versus-copy\n",
      "  \"\"\"Entry point for launching an IPython kernel.\n"
     ]
    }
   ],
   "source": [
    "df['BsmtFin SF 2'][df['BsmtFin SF 2'].isnull()] = 0"
   ]
  },
  {
   "cell_type": "code",
   "execution_count": 186,
   "metadata": {},
   "outputs": [
    {
     "name": "stderr",
     "output_type": "stream",
     "text": [
      "/anaconda3/lib/python3.6/site-packages/ipykernel_launcher.py:1: SettingWithCopyWarning: \n",
      "A value is trying to be set on a copy of a slice from a DataFrame\n",
      "\n",
      "See the caveats in the documentation: http://pandas.pydata.org/pandas-docs/stable/indexing.html#indexing-view-versus-copy\n",
      "  \"\"\"Entry point for launching an IPython kernel.\n"
     ]
    }
   ],
   "source": [
    "df['Bsmt Unf SF'][df['Bsmt Unf SF'].isnull()] = 0"
   ]
  },
  {
   "cell_type": "code",
   "execution_count": 187,
   "metadata": {},
   "outputs": [
    {
     "name": "stderr",
     "output_type": "stream",
     "text": [
      "/anaconda3/lib/python3.6/site-packages/ipykernel_launcher.py:1: SettingWithCopyWarning: \n",
      "A value is trying to be set on a copy of a slice from a DataFrame\n",
      "\n",
      "See the caveats in the documentation: http://pandas.pydata.org/pandas-docs/stable/indexing.html#indexing-view-versus-copy\n",
      "  \"\"\"Entry point for launching an IPython kernel.\n"
     ]
    }
   ],
   "source": [
    "df['Total Bsmt SF'][df['Total Bsmt SF'].isnull()] = 0"
   ]
  },
  {
   "cell_type": "code",
   "execution_count": 188,
   "metadata": {},
   "outputs": [
    {
     "data": {
      "text/plain": [
       "No Basement    25\n",
       "Name: Bsmt Qual, dtype: int64"
      ]
     },
     "execution_count": 188,
     "metadata": {},
     "output_type": "execute_result"
    }
   ],
   "source": [
    "df['Bsmt Qual'][df['Bsmt Qual'] == 'No Basement'].value_counts()"
   ]
  },
  {
   "cell_type": "code",
   "execution_count": 189,
   "metadata": {
    "scrolled": true
   },
   "outputs": [
    {
     "name": "stderr",
     "output_type": "stream",
     "text": [
      "/anaconda3/lib/python3.6/site-packages/ipykernel_launcher.py:1: SettingWithCopyWarning: \n",
      "A value is trying to be set on a copy of a slice from a DataFrame\n",
      "\n",
      "See the caveats in the documentation: http://pandas.pydata.org/pandas-docs/stable/indexing.html#indexing-view-versus-copy\n",
      "  \"\"\"Entry point for launching an IPython kernel.\n"
     ]
    }
   ],
   "source": [
    "df['Bsmt Full Bath'][df['Bsmt Full Bath'].isnull()] = 0.0"
   ]
  },
  {
   "cell_type": "code",
   "execution_count": 190,
   "metadata": {
    "scrolled": true
   },
   "outputs": [
    {
     "name": "stderr",
     "output_type": "stream",
     "text": [
      "/anaconda3/lib/python3.6/site-packages/ipykernel_launcher.py:1: SettingWithCopyWarning: \n",
      "A value is trying to be set on a copy of a slice from a DataFrame\n",
      "\n",
      "See the caveats in the documentation: http://pandas.pydata.org/pandas-docs/stable/indexing.html#indexing-view-versus-copy\n",
      "  \"\"\"Entry point for launching an IPython kernel.\n"
     ]
    }
   ],
   "source": [
    "df['Bsmt Half Bath'][df['Bsmt Half Bath'].isnull()] = 0.0"
   ]
  },
  {
   "cell_type": "code",
   "execution_count": 191,
   "metadata": {},
   "outputs": [
    {
     "data": {
      "text/plain": [
       "422"
      ]
     },
     "execution_count": 191,
     "metadata": {},
     "output_type": "execute_result"
    }
   ],
   "source": [
    "df['Fireplace Qu'].isnull().sum()"
   ]
  },
  {
   "cell_type": "code",
   "execution_count": 192,
   "metadata": {
    "scrolled": true
   },
   "outputs": [
    {
     "name": "stderr",
     "output_type": "stream",
     "text": [
      "/anaconda3/lib/python3.6/site-packages/ipykernel_launcher.py:1: SettingWithCopyWarning: \n",
      "A value is trying to be set on a copy of a slice from a DataFrame\n",
      "\n",
      "See the caveats in the documentation: http://pandas.pydata.org/pandas-docs/stable/indexing.html#indexing-view-versus-copy\n",
      "  \"\"\"Entry point for launching an IPython kernel.\n"
     ]
    }
   ],
   "source": [
    "df['Fireplace Qu'][df['Fireplace Qu'].isnull()] = 'No Fireplace'"
   ]
  },
  {
   "cell_type": "code",
   "execution_count": 193,
   "metadata": {},
   "outputs": [
    {
     "data": {
      "text/plain": [
       "44"
      ]
     },
     "execution_count": 193,
     "metadata": {},
     "output_type": "execute_result"
    }
   ],
   "source": [
    "df['Garage Type'].isnull().sum()"
   ]
  },
  {
   "cell_type": "code",
   "execution_count": 194,
   "metadata": {},
   "outputs": [
    {
     "name": "stderr",
     "output_type": "stream",
     "text": [
      "/anaconda3/lib/python3.6/site-packages/ipykernel_launcher.py:1: SettingWithCopyWarning: \n",
      "A value is trying to be set on a copy of a slice from a DataFrame\n",
      "\n",
      "See the caveats in the documentation: http://pandas.pydata.org/pandas-docs/stable/indexing.html#indexing-view-versus-copy\n",
      "  \"\"\"Entry point for launching an IPython kernel.\n"
     ]
    }
   ],
   "source": [
    "df['Garage Type'][df['Garage Type'].isnull()] = 'No Garage'"
   ]
  },
  {
   "cell_type": "code",
   "execution_count": 195,
   "metadata": {},
   "outputs": [
    {
     "data": {
      "text/plain": [
       "0"
      ]
     },
     "execution_count": 195,
     "metadata": {},
     "output_type": "execute_result"
    }
   ],
   "source": [
    "df['Garage Type'].isnull().sum()"
   ]
  },
  {
   "cell_type": "code",
   "execution_count": 196,
   "metadata": {},
   "outputs": [
    {
     "name": "stderr",
     "output_type": "stream",
     "text": [
      "/anaconda3/lib/python3.6/site-packages/ipykernel_launcher.py:1: SettingWithCopyWarning: \n",
      "A value is trying to be set on a copy of a slice from a DataFrame\n",
      "\n",
      "See the caveats in the documentation: http://pandas.pydata.org/pandas-docs/stable/indexing.html#indexing-view-versus-copy\n",
      "  \"\"\"Entry point for launching an IPython kernel.\n"
     ]
    }
   ],
   "source": [
    "df['Garage Yr Blt'][df['Garage Yr Blt'].isnull()] = 0.0"
   ]
  },
  {
   "cell_type": "code",
   "execution_count": 197,
   "metadata": {},
   "outputs": [
    {
     "data": {
      "text/plain": [
       "0"
      ]
     },
     "execution_count": 197,
     "metadata": {},
     "output_type": "execute_result"
    }
   ],
   "source": [
    "df['Garage Yr Blt'].isnull().sum()"
   ]
  },
  {
   "cell_type": "code",
   "execution_count": 198,
   "metadata": {},
   "outputs": [
    {
     "data": {
      "text/plain": [
       "45"
      ]
     },
     "execution_count": 198,
     "metadata": {},
     "output_type": "execute_result"
    }
   ],
   "source": [
    "df['Garage Finish'].isnull().sum()"
   ]
  },
  {
   "cell_type": "code",
   "execution_count": 199,
   "metadata": {},
   "outputs": [
    {
     "name": "stderr",
     "output_type": "stream",
     "text": [
      "/anaconda3/lib/python3.6/site-packages/ipykernel_launcher.py:1: SettingWithCopyWarning: \n",
      "A value is trying to be set on a copy of a slice from a DataFrame\n",
      "\n",
      "See the caveats in the documentation: http://pandas.pydata.org/pandas-docs/stable/indexing.html#indexing-view-versus-copy\n",
      "  \"\"\"Entry point for launching an IPython kernel.\n"
     ]
    }
   ],
   "source": [
    "df['Garage Finish'][df['Garage Finish'].isnull()] = 'No Garage'"
   ]
  },
  {
   "cell_type": "code",
   "execution_count": 200,
   "metadata": {},
   "outputs": [
    {
     "data": {
      "text/plain": [
       "0"
      ]
     },
     "execution_count": 200,
     "metadata": {},
     "output_type": "execute_result"
    }
   ],
   "source": [
    "df['Garage Finish'].isnull().sum()"
   ]
  },
  {
   "cell_type": "code",
   "execution_count": 201,
   "metadata": {},
   "outputs": [
    {
     "data": {
      "text/plain": [
       "0"
      ]
     },
     "execution_count": 201,
     "metadata": {},
     "output_type": "execute_result"
    }
   ],
   "source": [
    "df['Garage Cars'].isnull().sum()"
   ]
  },
  {
   "cell_type": "code",
   "execution_count": 202,
   "metadata": {},
   "outputs": [
    {
     "name": "stderr",
     "output_type": "stream",
     "text": [
      "/anaconda3/lib/python3.6/site-packages/ipykernel_launcher.py:1: SettingWithCopyWarning: \n",
      "A value is trying to be set on a copy of a slice from a DataFrame\n",
      "\n",
      "See the caveats in the documentation: http://pandas.pydata.org/pandas-docs/stable/indexing.html#indexing-view-versus-copy\n",
      "  \"\"\"Entry point for launching an IPython kernel.\n"
     ]
    }
   ],
   "source": [
    "df['Garage Cars'][df['Garage Cars'].isnull()] = 0.0"
   ]
  },
  {
   "cell_type": "code",
   "execution_count": 203,
   "metadata": {},
   "outputs": [
    {
     "data": {
      "text/plain": [
       "0"
      ]
     },
     "execution_count": 203,
     "metadata": {},
     "output_type": "execute_result"
    }
   ],
   "source": [
    "df['Garage Cars'].isnull().sum()"
   ]
  },
  {
   "cell_type": "code",
   "execution_count": 204,
   "metadata": {},
   "outputs": [
    {
     "name": "stderr",
     "output_type": "stream",
     "text": [
      "/anaconda3/lib/python3.6/site-packages/ipykernel_launcher.py:1: SettingWithCopyWarning: \n",
      "A value is trying to be set on a copy of a slice from a DataFrame\n",
      "\n",
      "See the caveats in the documentation: http://pandas.pydata.org/pandas-docs/stable/indexing.html#indexing-view-versus-copy\n",
      "  \"\"\"Entry point for launching an IPython kernel.\n"
     ]
    }
   ],
   "source": [
    "df['Garage Area'][df['Garage Area'].isnull()] = 0.0"
   ]
  },
  {
   "cell_type": "code",
   "execution_count": 205,
   "metadata": {},
   "outputs": [
    {
     "data": {
      "text/plain": [
       "0"
      ]
     },
     "execution_count": 205,
     "metadata": {},
     "output_type": "execute_result"
    }
   ],
   "source": [
    "df['Garage Area'].isnull().sum()"
   ]
  },
  {
   "cell_type": "code",
   "execution_count": 206,
   "metadata": {},
   "outputs": [
    {
     "name": "stderr",
     "output_type": "stream",
     "text": [
      "/anaconda3/lib/python3.6/site-packages/ipykernel_launcher.py:1: SettingWithCopyWarning: \n",
      "A value is trying to be set on a copy of a slice from a DataFrame\n",
      "\n",
      "See the caveats in the documentation: http://pandas.pydata.org/pandas-docs/stable/indexing.html#indexing-view-versus-copy\n",
      "  \"\"\"Entry point for launching an IPython kernel.\n"
     ]
    }
   ],
   "source": [
    "df['Garage Qual'][df['Garage Qual'].isnull()] = 'No Garage'"
   ]
  },
  {
   "cell_type": "code",
   "execution_count": 207,
   "metadata": {},
   "outputs": [
    {
     "data": {
      "text/plain": [
       "0"
      ]
     },
     "execution_count": 207,
     "metadata": {},
     "output_type": "execute_result"
    }
   ],
   "source": [
    "df['Garage Qual'].isnull().sum()"
   ]
  },
  {
   "cell_type": "code",
   "execution_count": 208,
   "metadata": {},
   "outputs": [
    {
     "data": {
      "text/plain": [
       "45"
      ]
     },
     "execution_count": 208,
     "metadata": {},
     "output_type": "execute_result"
    }
   ],
   "source": [
    "df['Garage Cond'].isnull().sum()"
   ]
  },
  {
   "cell_type": "code",
   "execution_count": 209,
   "metadata": {},
   "outputs": [
    {
     "name": "stderr",
     "output_type": "stream",
     "text": [
      "/anaconda3/lib/python3.6/site-packages/ipykernel_launcher.py:1: SettingWithCopyWarning: \n",
      "A value is trying to be set on a copy of a slice from a DataFrame\n",
      "\n",
      "See the caveats in the documentation: http://pandas.pydata.org/pandas-docs/stable/indexing.html#indexing-view-versus-copy\n",
      "  \"\"\"Entry point for launching an IPython kernel.\n"
     ]
    }
   ],
   "source": [
    "df['Garage Cond'][df['Garage Cond'].isnull()] = 'No Garage'"
   ]
  },
  {
   "cell_type": "code",
   "execution_count": 210,
   "metadata": {},
   "outputs": [
    {
     "data": {
      "text/plain": [
       "0"
      ]
     },
     "execution_count": 210,
     "metadata": {},
     "output_type": "execute_result"
    }
   ],
   "source": [
    "df['Garage Cond'].isnull().sum()"
   ]
  },
  {
   "cell_type": "code",
   "execution_count": 211,
   "metadata": {},
   "outputs": [
    {
     "name": "stderr",
     "output_type": "stream",
     "text": [
      "/anaconda3/lib/python3.6/site-packages/ipykernel_launcher.py:1: SettingWithCopyWarning: \n",
      "A value is trying to be set on a copy of a slice from a DataFrame\n",
      "\n",
      "See the caveats in the documentation: http://pandas.pydata.org/pandas-docs/stable/indexing.html#indexing-view-versus-copy\n",
      "  \"\"\"Entry point for launching an IPython kernel.\n"
     ]
    }
   ],
   "source": [
    "df['Pool QC'][df['Pool QC'].isnull()] = 'No Pool'"
   ]
  },
  {
   "cell_type": "code",
   "execution_count": 212,
   "metadata": {},
   "outputs": [
    {
     "data": {
      "text/plain": [
       "0"
      ]
     },
     "execution_count": 212,
     "metadata": {},
     "output_type": "execute_result"
    }
   ],
   "source": [
    "df['Pool QC'].isnull().sum()"
   ]
  },
  {
   "cell_type": "code",
   "execution_count": 213,
   "metadata": {},
   "outputs": [
    {
     "name": "stderr",
     "output_type": "stream",
     "text": [
      "/anaconda3/lib/python3.6/site-packages/ipykernel_launcher.py:1: SettingWithCopyWarning: \n",
      "A value is trying to be set on a copy of a slice from a DataFrame\n",
      "\n",
      "See the caveats in the documentation: http://pandas.pydata.org/pandas-docs/stable/indexing.html#indexing-view-versus-copy\n",
      "  \"\"\"Entry point for launching an IPython kernel.\n"
     ]
    }
   ],
   "source": [
    "df['Fence'][df['Fence'].isnull()] = 'No Fence'"
   ]
  },
  {
   "cell_type": "code",
   "execution_count": 214,
   "metadata": {},
   "outputs": [
    {
     "data": {
      "text/plain": [
       "0"
      ]
     },
     "execution_count": 214,
     "metadata": {},
     "output_type": "execute_result"
    }
   ],
   "source": [
    "df['Fence'].isnull().sum()"
   ]
  },
  {
   "cell_type": "code",
   "execution_count": 215,
   "metadata": {},
   "outputs": [
    {
     "name": "stderr",
     "output_type": "stream",
     "text": [
      "/anaconda3/lib/python3.6/site-packages/ipykernel_launcher.py:1: SettingWithCopyWarning: \n",
      "A value is trying to be set on a copy of a slice from a DataFrame\n",
      "\n",
      "See the caveats in the documentation: http://pandas.pydata.org/pandas-docs/stable/indexing.html#indexing-view-versus-copy\n",
      "  \"\"\"Entry point for launching an IPython kernel.\n"
     ]
    }
   ],
   "source": [
    "df['Misc Feature'][df['Misc Feature'].isnull()] = 'None'"
   ]
  },
  {
   "cell_type": "code",
   "execution_count": 216,
   "metadata": {},
   "outputs": [
    {
     "data": {
      "text/plain": [
       "0"
      ]
     },
     "execution_count": 216,
     "metadata": {},
     "output_type": "execute_result"
    }
   ],
   "source": [
    "df['Misc Feature'].isnull().sum()"
   ]
  },
  {
   "cell_type": "code",
   "execution_count": 217,
   "metadata": {},
   "outputs": [
    {
     "data": {
      "text/plain": [
       "1"
      ]
     },
     "execution_count": 217,
     "metadata": {},
     "output_type": "execute_result"
    }
   ],
   "source": [
    "df.isnull().sum().sum()"
   ]
  },
  {
   "cell_type": "markdown",
   "metadata": {},
   "source": [
    "# :)"
   ]
  },
  {
   "cell_type": "code",
   "execution_count": 218,
   "metadata": {},
   "outputs": [
    {
     "name": "stdout",
     "output_type": "stream",
     "text": [
      "<class 'pandas.core.frame.DataFrame'>\n",
      "RangeIndex: 879 entries, 0 to 878\n",
      "Data columns (total 80 columns):\n",
      "Id                 879 non-null int64\n",
      "PID                879 non-null int64\n",
      "MS SubClass        879 non-null int64\n",
      "MS Zoning          879 non-null object\n",
      "Lot Frontage       879 non-null float64\n",
      "Lot Area           879 non-null int64\n",
      "Street             879 non-null object\n",
      "Alley              879 non-null object\n",
      "Lot Shape          879 non-null object\n",
      "Land Contour       879 non-null object\n",
      "Utilities          879 non-null object\n",
      "Lot Config         879 non-null object\n",
      "Land Slope         879 non-null object\n",
      "Neighborhood       879 non-null object\n",
      "Condition 1        879 non-null object\n",
      "Condition 2        879 non-null object\n",
      "Bldg Type          879 non-null object\n",
      "House Style        879 non-null object\n",
      "Overall Qual       879 non-null int64\n",
      "Overall Cond       879 non-null int64\n",
      "Year Built         879 non-null int64\n",
      "Year Remod/Add     879 non-null int64\n",
      "Roof Style         879 non-null object\n",
      "Roof Matl          879 non-null object\n",
      "Exterior 1st       879 non-null object\n",
      "Exterior 2nd       879 non-null object\n",
      "Mas Vnr Type       879 non-null object\n",
      "Mas Vnr Area       879 non-null float64\n",
      "Exter Qual         879 non-null object\n",
      "Exter Cond         879 non-null object\n",
      "Foundation         879 non-null object\n",
      "Bsmt Qual          879 non-null object\n",
      "Bsmt Cond          879 non-null object\n",
      "Bsmt Exposure      879 non-null object\n",
      "BsmtFin Type 1     879 non-null object\n",
      "BsmtFin SF 1       879 non-null float64\n",
      "BsmtFin Type 2     879 non-null object\n",
      "BsmtFin SF 2       879 non-null float64\n",
      "Bsmt Unf SF        879 non-null float64\n",
      "Total Bsmt SF      879 non-null float64\n",
      "Heating            879 non-null object\n",
      "Heating QC         879 non-null object\n",
      "Central Air        879 non-null object\n",
      "Electrical         878 non-null object\n",
      "1st Flr SF         879 non-null int64\n",
      "2nd Flr SF         879 non-null int64\n",
      "Low Qual Fin SF    879 non-null int64\n",
      "Gr Liv Area        879 non-null int64\n",
      "Bsmt Full Bath     879 non-null float64\n",
      "Bsmt Half Bath     879 non-null float64\n",
      "Full Bath          879 non-null int64\n",
      "Half Bath          879 non-null int64\n",
      "Bedroom AbvGr      879 non-null int64\n",
      "Kitchen AbvGr      879 non-null int64\n",
      "Kitchen Qual       879 non-null object\n",
      "TotRms AbvGrd      879 non-null int64\n",
      "Functional         879 non-null object\n",
      "Fireplaces         879 non-null int64\n",
      "Fireplace Qu       879 non-null object\n",
      "Garage Type        879 non-null object\n",
      "Garage Yr Blt      879 non-null float64\n",
      "Garage Finish      879 non-null object\n",
      "Garage Cars        879 non-null float64\n",
      "Garage Area        879 non-null float64\n",
      "Garage Qual        879 non-null object\n",
      "Garage Cond        879 non-null object\n",
      "Paved Drive        879 non-null object\n",
      "Wood Deck SF       879 non-null int64\n",
      "Open Porch SF      879 non-null int64\n",
      "Enclosed Porch     879 non-null int64\n",
      "3Ssn Porch         879 non-null int64\n",
      "Screen Porch       879 non-null int64\n",
      "Pool Area          879 non-null int64\n",
      "Pool QC            879 non-null object\n",
      "Fence              879 non-null object\n",
      "Misc Feature       879 non-null object\n",
      "Misc Val           879 non-null int64\n",
      "Mo Sold            879 non-null int64\n",
      "Yr Sold            879 non-null int64\n",
      "Sale Type          879 non-null object\n",
      "dtypes: float64(11), int64(27), object(42)\n",
      "memory usage: 549.5+ KB\n"
     ]
    }
   ],
   "source": [
    "df.info()"
   ]
  },
  {
   "cell_type": "code",
   "execution_count": 223,
   "metadata": {},
   "outputs": [],
   "source": [
    "columns_object = ['MS SubClass', 'Overall Qual', 'Overall Cond', 'Bsmt Full Bath', 'Bsmt Half Bath',\n",
    "                  'Full Bath', 'Half Bath', 'Bedroom AbvGr', 'Kitchen AbvGr', 'TotRms AbvGrd',\n",
    "                  'Fireplaces', 'Garage Cars', 'Mo Sold', 'Yr Sold']"
   ]
  },
  {
   "cell_type": "code",
   "execution_count": 224,
   "metadata": {},
   "outputs": [
    {
     "name": "stdout",
     "output_type": "stream",
     "text": [
      "<class 'pandas.core.frame.DataFrame'>\n",
      "RangeIndex: 879 entries, 0 to 878\n",
      "Data columns (total 80 columns):\n",
      "Id                 879 non-null int64\n",
      "PID                879 non-null int64\n",
      "MS SubClass        879 non-null object\n",
      "MS Zoning          879 non-null object\n",
      "Lot Frontage       879 non-null float64\n",
      "Lot Area           879 non-null int64\n",
      "Street             879 non-null object\n",
      "Alley              879 non-null object\n",
      "Lot Shape          879 non-null object\n",
      "Land Contour       879 non-null object\n",
      "Utilities          879 non-null object\n",
      "Lot Config         879 non-null object\n",
      "Land Slope         879 non-null object\n",
      "Neighborhood       879 non-null object\n",
      "Condition 1        879 non-null object\n",
      "Condition 2        879 non-null object\n",
      "Bldg Type          879 non-null object\n",
      "House Style        879 non-null object\n",
      "Overall Qual       879 non-null object\n",
      "Overall Cond       879 non-null object\n",
      "Year Built         879 non-null int64\n",
      "Year Remod/Add     879 non-null int64\n",
      "Roof Style         879 non-null object\n",
      "Roof Matl          879 non-null object\n",
      "Exterior 1st       879 non-null object\n",
      "Exterior 2nd       879 non-null object\n",
      "Mas Vnr Type       879 non-null object\n",
      "Mas Vnr Area       879 non-null float64\n",
      "Exter Qual         879 non-null object\n",
      "Exter Cond         879 non-null object\n",
      "Foundation         879 non-null object\n",
      "Bsmt Qual          879 non-null object\n",
      "Bsmt Cond          879 non-null object\n",
      "Bsmt Exposure      879 non-null object\n",
      "BsmtFin Type 1     879 non-null object\n",
      "BsmtFin SF 1       879 non-null float64\n",
      "BsmtFin Type 2     879 non-null object\n",
      "BsmtFin SF 2       879 non-null float64\n",
      "Bsmt Unf SF        879 non-null float64\n",
      "Total Bsmt SF      879 non-null float64\n",
      "Heating            879 non-null object\n",
      "Heating QC         879 non-null object\n",
      "Central Air        879 non-null object\n",
      "Electrical         878 non-null object\n",
      "1st Flr SF         879 non-null int64\n",
      "2nd Flr SF         879 non-null int64\n",
      "Low Qual Fin SF    879 non-null int64\n",
      "Gr Liv Area        879 non-null int64\n",
      "Bsmt Full Bath     879 non-null object\n",
      "Bsmt Half Bath     879 non-null object\n",
      "Full Bath          879 non-null object\n",
      "Half Bath          879 non-null object\n",
      "Bedroom AbvGr      879 non-null object\n",
      "Kitchen AbvGr      879 non-null object\n",
      "Kitchen Qual       879 non-null object\n",
      "TotRms AbvGrd      879 non-null object\n",
      "Functional         879 non-null object\n",
      "Fireplaces         879 non-null object\n",
      "Fireplace Qu       879 non-null object\n",
      "Garage Type        879 non-null object\n",
      "Garage Yr Blt      879 non-null float64\n",
      "Garage Finish      879 non-null object\n",
      "Garage Cars        879 non-null object\n",
      "Garage Area        879 non-null float64\n",
      "Garage Qual        879 non-null object\n",
      "Garage Cond        879 non-null object\n",
      "Paved Drive        879 non-null object\n",
      "Wood Deck SF       879 non-null int64\n",
      "Open Porch SF      879 non-null int64\n",
      "Enclosed Porch     879 non-null int64\n",
      "3Ssn Porch         879 non-null int64\n",
      "Screen Porch       879 non-null int64\n",
      "Pool Area          879 non-null int64\n",
      "Pool QC            879 non-null object\n",
      "Fence              879 non-null object\n",
      "Misc Feature       879 non-null object\n",
      "Misc Val           879 non-null int64\n",
      "Mo Sold            879 non-null object\n",
      "Yr Sold            879 non-null object\n",
      "Sale Type          879 non-null object\n",
      "dtypes: float64(8), int64(16), object(56)\n",
      "memory usage: 549.5+ KB\n"
     ]
    }
   ],
   "source": [
    "for col in columns_object:\n",
    "    df[col] = df[col].astype(object)\n",
    "df.info()"
   ]
  },
  {
   "cell_type": "code",
   "execution_count": 225,
   "metadata": {},
   "outputs": [
    {
     "data": {
      "text/plain": [
       "['MS SubClass',\n",
       " 'MS Zoning',\n",
       " 'Street',\n",
       " 'Alley',\n",
       " 'Lot Shape',\n",
       " 'Land Contour',\n",
       " 'Utilities',\n",
       " 'Lot Config',\n",
       " 'Land Slope',\n",
       " 'Neighborhood',\n",
       " 'Condition 1',\n",
       " 'Condition 2',\n",
       " 'Bldg Type',\n",
       " 'House Style',\n",
       " 'Overall Qual',\n",
       " 'Overall Cond',\n",
       " 'Roof Style',\n",
       " 'Roof Matl',\n",
       " 'Exterior 1st',\n",
       " 'Exterior 2nd',\n",
       " 'Mas Vnr Type',\n",
       " 'Exter Qual',\n",
       " 'Exter Cond',\n",
       " 'Foundation',\n",
       " 'Bsmt Qual',\n",
       " 'Bsmt Cond',\n",
       " 'Bsmt Exposure',\n",
       " 'BsmtFin Type 1',\n",
       " 'BsmtFin Type 2',\n",
       " 'Heating',\n",
       " 'Heating QC',\n",
       " 'Central Air',\n",
       " 'Electrical',\n",
       " 'Bsmt Full Bath',\n",
       " 'Bsmt Half Bath',\n",
       " 'Full Bath',\n",
       " 'Half Bath',\n",
       " 'Bedroom AbvGr',\n",
       " 'Kitchen AbvGr',\n",
       " 'Kitchen Qual',\n",
       " 'TotRms AbvGrd',\n",
       " 'Functional',\n",
       " 'Fireplaces',\n",
       " 'Fireplace Qu',\n",
       " 'Garage Type',\n",
       " 'Garage Finish',\n",
       " 'Garage Cars',\n",
       " 'Garage Qual',\n",
       " 'Garage Cond',\n",
       " 'Paved Drive',\n",
       " 'Pool QC',\n",
       " 'Fence',\n",
       " 'Misc Feature',\n",
       " 'Mo Sold',\n",
       " 'Yr Sold',\n",
       " 'Sale Type']"
      ]
     },
     "execution_count": 225,
     "metadata": {},
     "output_type": "execute_result"
    }
   ],
   "source": [
    "list(df.select_dtypes(include=\"object\").columns)"
   ]
  },
  {
   "cell_type": "code",
   "execution_count": 226,
   "metadata": {},
   "outputs": [],
   "source": [
    "df_object = pd.get_dummies(df[list(df.select_dtypes(include=\"object\"))], \n",
    "                           prefix = list(df.select_dtypes(include=\"object\").columns), \n",
    "                           columns = df.select_dtypes(include=\"object\").columns)\n",
    "df = pd.concat([df, df_object], axis = 1, join = 'outer')"
   ]
  },
  {
   "cell_type": "code",
   "execution_count": 227,
   "metadata": {},
   "outputs": [],
   "source": [
    "#df.drop(['MS SubClass', 'Overall Qual', 'Overall Cond', 'Bsmt Full Bath', 'Bsmt Half Bath',\n",
    "         #'Full Bath', 'Half Bath', 'Bedroom AbvGr', 'Kitchen AbvGr', 'TotRms AbvGrd',\n",
    "         #'Fireplaces', 'Garage Cars', 'Mo Sold', 'Yr Sold'], axis=1, inplace=True)"
   ]
  },
  {
   "cell_type": "code",
   "execution_count": 228,
   "metadata": {},
   "outputs": [],
   "source": [
    "df.to_csv('./data/clean_data_test.csv')"
   ]
  },
  {
   "cell_type": "code",
   "execution_count": null,
   "metadata": {},
   "outputs": [],
   "source": []
  },
  {
   "cell_type": "code",
   "execution_count": null,
   "metadata": {},
   "outputs": [],
   "source": []
  },
  {
   "cell_type": "code",
   "execution_count": null,
   "metadata": {},
   "outputs": [],
   "source": []
  }
 ],
 "metadata": {
  "kernelspec": {
   "display_name": "Python 3",
   "language": "python",
   "name": "python3"
  },
  "language_info": {
   "codemirror_mode": {
    "name": "ipython",
    "version": 3
   },
   "file_extension": ".py",
   "mimetype": "text/x-python",
   "name": "python",
   "nbconvert_exporter": "python",
   "pygments_lexer": "ipython3",
   "version": "3.6.5"
  }
 },
 "nbformat": 4,
 "nbformat_minor": 2
}
